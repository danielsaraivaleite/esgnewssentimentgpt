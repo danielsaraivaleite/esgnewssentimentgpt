{
 "cells": [
  {
   "cell_type": "markdown",
   "id": "849b8fe9",
   "metadata": {},
   "source": [
    "# Algoritmo de classificação para classificar as notícias entre E, S, G ou Outros, evitando chamadas ao Chat GPT"
   ]
  },
  {
   "cell_type": "markdown",
   "id": "7007685a",
   "metadata": {},
   "source": [
    "- Autor: Daniel Saraiva Leite - 2023\n",
    "- Projeto Análise de sentimentos sobre notícias do tema ESG"
   ]
  },
  {
   "cell_type": "code",
   "execution_count": 1,
   "id": "754987a8",
   "metadata": {},
   "outputs": [
    {
     "name": "stderr",
     "output_type": "stream",
     "text": [
      "[nltk_data] Downloading package rslp to\n",
      "[nltk_data]     /Users/danielsaraivaleite/nltk_data...\n",
      "[nltk_data]   Package rslp is already up-to-date!\n",
      "[nltk_data] Downloading package punkt to\n",
      "[nltk_data]     /Users/danielsaraivaleite/nltk_data...\n",
      "[nltk_data]   Package punkt is already up-to-date!\n",
      "[nltk_data] Downloading package stopwords to\n",
      "[nltk_data]     /Users/danielsaraivaleite/nltk_data...\n",
      "[nltk_data]   Package stopwords is already up-to-date!\n"
     ]
    }
   ],
   "source": [
    "from sklearn.metrics import precision_score, recall_score, f1_score, accuracy_score\n",
    "import pandas as pd\n",
    "from sklearn.naive_bayes import MultinomialNB\n",
    "from sklearn.feature_extraction.text import TfidfVectorizer\n",
    "from sklearn.linear_model import LogisticRegression\n",
    "from sklearn.model_selection import train_test_split\n",
    "from sklearn import svm\n",
    "import numpy as np\n",
    "from noticias_processamento_texto import lematizador, remove_pontuacao, limpar_texto, lista_stopwords_classificador_esg\n",
    "import pickle\n",
    "import warnings\n",
    "warnings.filterwarnings('ignore')\n",
    "from classificador_esg import treina_classificador_esg, aplica_classificador_esg"
   ]
  },
  {
   "cell_type": "markdown",
   "id": "8cbb9109",
   "metadata": {},
   "source": [
    "## Leitura da base treino (fonte chat gpt)"
   ]
  },
  {
   "cell_type": "code",
   "execution_count": null,
   "id": "b7eb071b",
   "metadata": {},
   "outputs": [],
   "source": [
    "# aplica o treinamento com 3 modelos diferentes\n",
    "df = pd.read_excel('datasets/base_treino_classificador_ml.xlsx')\n",
    "df['texto_completo'] = df['texto_completo'].str.replace('Empresa [A-Z]{1,3} ', 'Empresa ', regex=True)\n",
    "df['texto_completo'] = df['texto_completo'].str.replace('Texto [0-9]{1,2}: ', '', regex=True)\n",
    "df['texto_completo'] = df['texto_completo'].str.replace(r'^[0-9]\\. ', '', regex=True)\n",
    "\n",
    "\n",
    "\n",
    "modelos = [ 'SVC',]\n",
    "\n",
    "for m in modelos:\n",
    "\n",
    "    print(m + ':')\n",
    "    vect, model = treina_classificador_esg(df, col_texto='texto_completo', \n",
    "                                   col_classe='classificacao', modelo=m)\n",
    "\n",
    "    pickle.dump(vect, open('models/' + str(model).replace('(', '').replace(')', '').replace(\"'\", \"\") + \n",
    "                           '_vectorizer_esg_classifier.sav', 'wb'))\n",
    "    pickle.dump(model, open('models/' + str(model).replace('(', '').replace(')', '').replace(\"'\", \"\") + \n",
    "                            '_classifier_esg_classifier.sav', 'wb'))\n",
    "\n",
    "\n"
   ]
  },
  {
   "cell_type": "code",
   "execution_count": 3,
   "id": "d9d6867f",
   "metadata": {},
   "outputs": [
    {
     "name": "stdout",
     "output_type": "stream",
     "text": [
      "atual\n",
      "Performance na base de teste - 16032 casos\n",
      "accuracy:  0.5782185628742516\n",
      "precision:  0.5935131033303963\n",
      "recall:  0.5959991557284725\n",
      "f1:  0.5484475725240219\n",
      "novo\n",
      "Performance na base de teste - 16032 casos\n",
      "accuracy:  0.7975923153692615\n",
      "precision:  0.8103596953925746\n",
      "recall:  0.7518339236502776\n",
      "f1:  0.769285425146581\n"
     ]
    }
   ],
   "source": [
    "\n",
    "\n",
    "print('Performanca na base de treino total')\n",
    "# utiliza o classificador por ML para determinar o assunto da noticia: E, S, G ou outros\n",
    "vect = pickle.load(open('models/svm_vetorizador.sav', 'rb'))\n",
    "model = pickle.load(open('models/svm_classificador.sav', 'rb'))\n",
    "df = pd.read_excel('datasets/base_treino_classificador_ml.xlsx')\n",
    "x= aplica_classificador_esg(vect, model, df, \n",
    "                             comparar_com_real=True, col_texto_origem='texto_completo', \n",
    "                             col_texto_saida='texto_ajustado', col_classe_verdadeira='classificacao', threshold=0.25)"
   ]
  },
  {
   "cell_type": "code",
   "execution_count": null,
   "id": "752be4aa",
   "metadata": {},
   "outputs": [],
   "source": []
  }
 ],
 "metadata": {
  "kernelspec": {
   "display_name": "Python 3 (ipykernel)",
   "language": "python",
   "name": "python3"
  },
  "language_info": {
   "codemirror_mode": {
    "name": "ipython",
    "version": 3
   },
   "file_extension": ".py",
   "mimetype": "text/x-python",
   "name": "python",
   "nbconvert_exporter": "python",
   "pygments_lexer": "ipython3",
   "version": "3.9.13"
  }
 },
 "nbformat": 4,
 "nbformat_minor": 5
}
